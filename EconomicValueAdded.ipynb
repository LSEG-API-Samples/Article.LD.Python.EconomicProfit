{
 "cells": [
  {
   "cell_type": "markdown",
   "metadata": {},
   "source": [
    "# Economic Value Added"
   ]
  },
  {
   "cell_type": "markdown",
   "metadata": {},
   "source": [
    "Economic value added (EVA) is an estimate of a company's economic profit. It measures how much a firm's returns exceed those required by suppliers of capital. In other words it tells one how much wealth the firm has created for company shareholders. EVA is the net profit less the capital charge for raising the company's capital. The idea is that value is created when the return on the firm's economic capital employed exceeds the cost of that capital.\n",
    "There are two ways to calculate EVA. The first one is\n",
    ">EVA = NOPAT - WACC * Total Capital\n",
    "\n",
    "In the above formula NOPAT is the net operating profit after tax, WACC is weighted average cost of capital and Total Capital is the sum of debt and equity.\n",
    "\n",
    "The second formula for EVA is\n",
    ">EVA = EBIT * (1 - t) - \\\\$WACC\n",
    "\n",
    "Here EBIT is earnings before interest and tax, t is the marginal tax rate and \\\\$WACC is the dollar cost of capital.\n",
    "\n",
    "In this example we're using the first formula to calculate EVA"
   ]
  },
  {
   "cell_type": "code",
   "execution_count": 1,
   "metadata": {},
   "outputs": [],
   "source": [
    "import pandas as pd\n",
    "import datetime as dt\n",
    "import numpy as np\n",
    "import numpy_financial as npf\n",
    "import os\n",
    "import matplotlib\n",
    "%matplotlib inline\n",
    "import lseg.data as ld\n",
    "# replace this with your API key\n",
    "APP_KEY = os.environ.get('APP_KEY')\n",
    "if APP_KEY==None:\n",
    "    print('App key is needed to retrieve data from Workspace. Generate your app key and use it in ld.open_session(app_key = APP_KEY) call.')\n",
    "else:\n",
    "    ld.open_session(app_key = APP_KEY)"
   ]
  },
  {
   "cell_type": "code",
   "execution_count": 2,
   "metadata": {},
   "outputs": [],
   "source": [
    "#Input stock RIC of a company\n",
    "stock_ric = 'IBM.N'"
   ]
  },
  {
   "cell_type": "code",
   "execution_count": 3,
   "metadata": {},
   "outputs": [
    {
     "data": {
      "text/html": [
       "<div>\n",
       "<style scoped>\n",
       "    .dataframe tbody tr th:only-of-type {\n",
       "        vertical-align: middle;\n",
       "    }\n",
       "\n",
       "    .dataframe tbody tr th {\n",
       "        vertical-align: top;\n",
       "    }\n",
       "\n",
       "    .dataframe thead th {\n",
       "        text-align: right;\n",
       "    }\n",
       "</style>\n",
       "<table border=\"1\" class=\"dataframe\">\n",
       "  <thead>\n",
       "    <tr style=\"text-align: right;\">\n",
       "      <th>Instrument</th>\n",
       "      <th>IBM.N</th>\n",
       "    </tr>\n",
       "  </thead>\n",
       "  <tbody>\n",
       "    <tr>\n",
       "      <th>Company Common Name</th>\n",
       "      <td>International Business Machines Corp</td>\n",
       "    </tr>\n",
       "    <tr>\n",
       "      <th>Country of Headquarters</th>\n",
       "      <td>United States of America</td>\n",
       "    </tr>\n",
       "    <tr>\n",
       "      <th>Exchange Name</th>\n",
       "      <td>NEW YORK STOCK EXCHANGE, INC.</td>\n",
       "    </tr>\n",
       "    <tr>\n",
       "      <th>TRBC Industry Group Name</th>\n",
       "      <td>Software &amp; IT Services</td>\n",
       "    </tr>\n",
       "    <tr>\n",
       "      <th>Currency Code</th>\n",
       "      <td>USD</td>\n",
       "    </tr>\n",
       "  </tbody>\n",
       "</table>\n",
       "</div>"
      ],
      "text/plain": [
       "Instrument                                               IBM.N\n",
       "Company Common Name       International Business Machines Corp\n",
       "Country of Headquarters               United States of America\n",
       "Exchange Name                    NEW YORK STOCK EXCHANGE, INC.\n",
       "TRBC Industry Group Name                Software & IT Services\n",
       "Currency Code                                              USD"
      ]
     },
     "metadata": {},
     "output_type": "display_data"
    }
   ],
   "source": [
    "company_info_df = ld.get_data(stock_ric,['TR.CommonName',\n",
    "                                              'TR.HeadquartersCountry',\n",
    "                                              'TR.ExchangeName',\n",
    "                                              'TR.TRBCIndustryGroup',\n",
    "                                              'TR.TRBCSector',\n",
    "                                              'TR.CompanyReportCurrency'])\n",
    "company_info_df = company_info_df.set_index(['Instrument'])\n",
    "curr = company_info_df.loc[stock_ric,'Currency Code']\n",
    "display(company_info_df.T)"
   ]
  },
  {
   "cell_type": "markdown",
   "metadata": {},
   "source": [
    "### NOPAT\n",
    "Net operating profit after tax (NOPAT) is a company's after-tax operating profit with certain adjustments. The adjustments may include removing the effects of goodwill and other non-cash items, treating R&D expenditure as an investment rather than a current expenditure and treating operating lease rentals as interest. In the example below we add supplemental rental expense to the operating income for the purpose of calculating NOPAT."
   ]
  },
  {
   "cell_type": "code",
   "execution_count": 4,
   "metadata": {},
   "outputs": [
    {
     "data": {
      "text/html": [
       "<style type=\"text/css\">\n",
       "</style>\n",
       "<table id=\"T_b6f66\">\n",
       "  <thead>\n",
       "    <tr>\n",
       "      <th class=\"index_name level0\" >Period End Date</th>\n",
       "      <th id=\"T_b6f66_level0_col0\" class=\"col_heading level0 col0\" >2024-12-31</th>\n",
       "      <th id=\"T_b6f66_level0_col1\" class=\"col_heading level0 col1\" >2023-12-31</th>\n",
       "      <th id=\"T_b6f66_level0_col2\" class=\"col_heading level0 col2\" >2022-12-31</th>\n",
       "      <th id=\"T_b6f66_level0_col3\" class=\"col_heading level0 col3\" >2021-12-31</th>\n",
       "    </tr>\n",
       "  </thead>\n",
       "  <tbody>\n",
       "    <tr>\n",
       "      <th id=\"T_b6f66_level0_row0\" class=\"row_heading level0 row0\" >Operating Income</th>\n",
       "      <td id=\"T_b6f66_row0_col0\" class=\"data row0 col0\" >5,797</td>\n",
       "      <td id=\"T_b6f66_row0_col1\" class=\"data row0 col1\" >8,690</td>\n",
       "      <td id=\"T_b6f66_row0_col2\" class=\"data row0 col2\" >1,156</td>\n",
       "      <td id=\"T_b6f66_row0_col3\" class=\"data row0 col3\" >4,837</td>\n",
       "    </tr>\n",
       "    <tr>\n",
       "      <th id=\"T_b6f66_level0_row1\" class=\"row_heading level0 row1\" >Rental Expense, Supplemental</th>\n",
       "      <td id=\"T_b6f66_row1_col0\" class=\"data row1 col0\" >1,018</td>\n",
       "      <td id=\"T_b6f66_row1_col1\" class=\"data row1 col1\" >1,013</td>\n",
       "      <td id=\"T_b6f66_row1_col2\" class=\"data row1 col2\" >1,050</td>\n",
       "      <td id=\"T_b6f66_row1_col3\" class=\"data row1 col3\" >1,126</td>\n",
       "    </tr>\n",
       "    <tr>\n",
       "      <th id=\"T_b6f66_level0_row2\" class=\"row_heading level0 row2\" >Provision for Income Taxes</th>\n",
       "      <td id=\"T_b6f66_row2_col0\" class=\"data row2 col0\" >673</td>\n",
       "      <td id=\"T_b6f66_row2_col1\" class=\"data row2 col1\" >-1,271</td>\n",
       "      <td id=\"T_b6f66_row2_col2\" class=\"data row2 col2\" >696</td>\n",
       "      <td id=\"T_b6f66_row2_col3\" class=\"data row2 col3\" >-213</td>\n",
       "    </tr>\n",
       "    <tr>\n",
       "      <th id=\"T_b6f66_level0_row3\" class=\"row_heading level0 row3\" >Net Operating Profit After Tax</th>\n",
       "      <td id=\"T_b6f66_row3_col0\" class=\"data row3 col0\" >7,488</td>\n",
       "      <td id=\"T_b6f66_row3_col1\" class=\"data row3 col1\" >8,432</td>\n",
       "      <td id=\"T_b6f66_row3_col2\" class=\"data row3 col2\" >2,902</td>\n",
       "      <td id=\"T_b6f66_row3_col3\" class=\"data row3 col3\" >5,750</td>\n",
       "    </tr>\n",
       "  </tbody>\n",
       "</table>\n"
      ],
      "text/plain": [
       "<pandas.io.formats.style.Styler at 0x20a7bd87b90>"
      ]
     },
     "metadata": {},
     "output_type": "display_data"
    }
   ],
   "source": [
    "nopat_df = ld.get_data(stock_ric, ['TR.OperatingIncome.ped',\n",
    "                                        'TR.OperatingIncome',\n",
    "                                        'TR.RentalExpenseSupplemental',\n",
    "                                        'TR.ProvisionForIncomeTaxes'],\n",
    "                           {'Scale':'6', 'Period':'FY0:FY-3', 'Frq':'FY'})\n",
    "nopat_df.drop('Instrument', axis=1, inplace=True)\n",
    "nopat_df = nopat_df.set_index(['Period End Date'])\n",
    "nopat_df['Provision for Income Taxes'] = -nopat_df['Provision for Income Taxes']\n",
    "nopat_df['Net Operating Profit After Tax'] = nopat_df.sum(axis=1)\n",
    "display(nopat_df.T.style.format('{:,.0f}'))"
   ]
  },
  {
   "cell_type": "markdown",
   "metadata": {},
   "source": [
    "### Total adjusted capital\n",
    "Total Adjusted Capital is calculated as sum of Total Debt and Equity adjusted for Goodwill Amortization, Present Value of Operating Lease Obligations and any other relevant adjustment depending upon the business."
   ]
  },
  {
   "cell_type": "code",
   "execution_count": 5,
   "metadata": {},
   "outputs": [
    {
     "data": {
      "text/html": [
       "<style type=\"text/css\">\n",
       "</style>\n",
       "<table id=\"T_710cf\">\n",
       "  <thead>\n",
       "    <tr>\n",
       "      <th class=\"index_name level0\" >Period End Date</th>\n",
       "      <th id=\"T_710cf_level0_col0\" class=\"col_heading level0 col0\" >2024-12-31</th>\n",
       "      <th id=\"T_710cf_level0_col1\" class=\"col_heading level0 col1\" >2023-12-31</th>\n",
       "      <th id=\"T_710cf_level0_col2\" class=\"col_heading level0 col2\" >2022-12-31</th>\n",
       "      <th id=\"T_710cf_level0_col3\" class=\"col_heading level0 col3\" >2021-12-31</th>\n",
       "    </tr>\n",
       "  </thead>\n",
       "  <tbody>\n",
       "    <tr>\n",
       "      <th id=\"T_710cf_level0_row0\" class=\"row_heading level0 row0\" >Total Debt</th>\n",
       "      <td id=\"T_710cf_row0_col0\" class=\"data row0 col0\" >54,973</td>\n",
       "      <td id=\"T_710cf_row0_col1\" class=\"data row0 col1\" >56,547</td>\n",
       "      <td id=\"T_710cf_row0_col2\" class=\"data row0 col2\" >50,949</td>\n",
       "      <td id=\"T_710cf_row0_col3\" class=\"data row0 col3\" >51,704</td>\n",
       "    </tr>\n",
       "    <tr>\n",
       "      <th id=\"T_710cf_level0_row1\" class=\"row_heading level0 row1\" >Minority Interest</th>\n",
       "      <td id=\"T_710cf_row1_col0\" class=\"data row1 col0\" >86</td>\n",
       "      <td id=\"T_710cf_row1_col1\" class=\"data row1 col1\" >80</td>\n",
       "      <td id=\"T_710cf_row1_col2\" class=\"data row1 col2\" >77</td>\n",
       "      <td id=\"T_710cf_row1_col3\" class=\"data row1 col3\" >95</td>\n",
       "    </tr>\n",
       "    <tr>\n",
       "      <th id=\"T_710cf_level0_row2\" class=\"row_heading level0 row2\" >Redeemable Preferred Stock, Total</th>\n",
       "      <td id=\"T_710cf_row2_col0\" class=\"data row2 col0\" ><NA></td>\n",
       "      <td id=\"T_710cf_row2_col1\" class=\"data row2 col1\" ><NA></td>\n",
       "      <td id=\"T_710cf_row2_col2\" class=\"data row2 col2\" ><NA></td>\n",
       "      <td id=\"T_710cf_row2_col3\" class=\"data row2 col3\" ><NA></td>\n",
       "    </tr>\n",
       "    <tr>\n",
       "      <th id=\"T_710cf_level0_row3\" class=\"row_heading level0 row3\" >Preferred Stock - Non Redeemable, Net</th>\n",
       "      <td id=\"T_710cf_row3_col0\" class=\"data row3 col0\" ><NA></td>\n",
       "      <td id=\"T_710cf_row3_col1\" class=\"data row3 col1\" ><NA></td>\n",
       "      <td id=\"T_710cf_row3_col2\" class=\"data row3 col2\" ><NA></td>\n",
       "      <td id=\"T_710cf_row3_col3\" class=\"data row3 col3\" ><NA></td>\n",
       "    </tr>\n",
       "    <tr>\n",
       "      <th id=\"T_710cf_level0_row4\" class=\"row_heading level0 row4\" >Total Equity</th>\n",
       "      <td id=\"T_710cf_row4_col0\" class=\"data row4 col0\" >27,307</td>\n",
       "      <td id=\"T_710cf_row4_col1\" class=\"data row4 col1\" >22,533</td>\n",
       "      <td id=\"T_710cf_row4_col2\" class=\"data row4 col2\" >21,944</td>\n",
       "      <td id=\"T_710cf_row4_col3\" class=\"data row4 col3\" >18,901</td>\n",
       "    </tr>\n",
       "    <tr>\n",
       "      <th id=\"T_710cf_level0_row5\" class=\"row_heading level0 row5\" >Accumulated Goodwill Amortization Suppl.</th>\n",
       "      <td id=\"T_710cf_row5_col0\" class=\"data row5 col0\" ><NA></td>\n",
       "      <td id=\"T_710cf_row5_col1\" class=\"data row5 col1\" ><NA></td>\n",
       "      <td id=\"T_710cf_row5_col2\" class=\"data row5 col2\" ><NA></td>\n",
       "      <td id=\"T_710cf_row5_col3\" class=\"data row5 col3\" ><NA></td>\n",
       "    </tr>\n",
       "    <tr>\n",
       "      <th id=\"T_710cf_level0_row6\" class=\"row_heading level0 row6\" >Present Value of Operating Leases</th>\n",
       "      <td id=\"T_710cf_row6_col0\" class=\"data row6 col0\" >213</td>\n",
       "      <td id=\"T_710cf_row6_col1\" class=\"data row6 col1\" >220</td>\n",
       "      <td id=\"T_710cf_row6_col2\" class=\"data row6 col2\" >223</td>\n",
       "      <td id=\"T_710cf_row6_col3\" class=\"data row6 col3\" >243</td>\n",
       "    </tr>\n",
       "    <tr>\n",
       "      <th id=\"T_710cf_level0_row7\" class=\"row_heading level0 row7\" >Total Adjusted Capital</th>\n",
       "      <td id=\"T_710cf_row7_col0\" class=\"data row7 col0\" >82,579</td>\n",
       "      <td id=\"T_710cf_row7_col1\" class=\"data row7 col1\" >79,380</td>\n",
       "      <td id=\"T_710cf_row7_col2\" class=\"data row7 col2\" >73,193</td>\n",
       "      <td id=\"T_710cf_row7_col3\" class=\"data row7 col3\" >70,943</td>\n",
       "    </tr>\n",
       "  </tbody>\n",
       "</table>\n"
      ],
      "text/plain": [
       "<pandas.io.formats.style.Styler at 0x20a7c57c560>"
      ]
     },
     "metadata": {},
     "output_type": "display_data"
    }
   ],
   "source": [
    "tot_adj_cap_df = ld.get_data(stock_ric, ['TR.TotalDebt.ped',\n",
    "                                              'TR.TotalDebt',\n",
    "                                              'TR.MinorityInterestBSStmt',\n",
    "                                              'TR.RedeemablePreferredTtl',\n",
    "                                              'TR.PreferredStockNonRedeemableNet',\n",
    "                                              'TR.TotalEquity',\n",
    "                                              'TR.AccumulatedGoodwillAmortSuppl',\n",
    "                                              'TR.OperatingLeasePymtsDueinYear1',\n",
    "                                              'TR.OperatingLeasePymtsDueinYear2',\n",
    "                                              'TR.OperatingLeasePymtsDueinYear3',\n",
    "                                              'TR.OperatingLeasePymtsDueinYear4',\n",
    "                                              'TR.OperatingLeasePymtsDueinYear5',\n",
    "                                              'TR.OperatingLeasePymtsDueinYear6AndBeyond',],\n",
    "                                  {'Scale':'6', 'Period':'FY0:FY-3', 'Frq':'FY'})\n",
    "tot_adj_cap_df.drop('Instrument', axis=1, inplace=True)\n",
    "tot_adj_cap_df = tot_adj_cap_df.set_index(['Period End Date'])\n",
    "cost_of_debt = ld.get_data(stock_ric,'TR.WACCCostofDebt').iloc[0,1]\n",
    "tmp_df = tot_adj_cap_df[['Operating Lease Payments Due in Year 1',\n",
    "                'Operating Lease Payments Due in Year 2',\n",
    "                'Operating Lease Payments Due in Year 3',\n",
    "                'Operating Lease Payments Due in Year 4',\n",
    "                'Operating Lease Payments Due in Year 5',\n",
    "                'Oper Lease Pmnts Due in Years 6 and Beyond']]\n",
    "tmp_df.insert(0,'Operating Lease Payments Due in Year 0',0)\n",
    "tot_adj_cap_df['Present Value of Operating Leases'] = tmp_df.apply(lambda x: npf.npv(cost_of_debt, x), axis=1)\n",
    "tot_adj_cap_df.drop(columns = tmp_df.columns, errors='ignore', inplace=True)\n",
    "tot_adj_cap_df.replace(r'^\\s*$', np.nan, regex=True, inplace=True)\n",
    "tot_adj_cap_df['Total Adjusted Capital'] = tot_adj_cap_df.sum(axis=1)\n",
    "display(tot_adj_cap_df.T.style.format('{:,.0f}'))"
   ]
  },
  {
   "cell_type": "markdown",
   "metadata": {},
   "source": [
    "### EVA\n",
    "Since WACC is calculated by StarMine analytics and can be directly retrieved from Workspace, we're now ready to calculate EVA. In addition to calculating EVA in dollar terms we're also calculating EVA as a percentage of Total Adjusted Capital."
   ]
  },
  {
   "cell_type": "code",
   "execution_count": 6,
   "metadata": {},
   "outputs": [
    {
     "data": {
      "text/html": [
       "<div>\n",
       "<style scoped>\n",
       "    .dataframe tbody tr th:only-of-type {\n",
       "        vertical-align: middle;\n",
       "    }\n",
       "\n",
       "    .dataframe tbody tr th {\n",
       "        vertical-align: top;\n",
       "    }\n",
       "\n",
       "    .dataframe thead th {\n",
       "        text-align: right;\n",
       "    }\n",
       "</style>\n",
       "<table border=\"1\" class=\"dataframe\">\n",
       "  <thead>\n",
       "    <tr style=\"text-align: right;\">\n",
       "      <th>Date</th>\n",
       "      <th>2024-12-31</th>\n",
       "      <th>2023-12-31</th>\n",
       "      <th>2022-12-31</th>\n",
       "      <th>2021-12-31</th>\n",
       "    </tr>\n",
       "  </thead>\n",
       "  <tbody>\n",
       "    <tr>\n",
       "      <th>Weighted Average Cost of Capital</th>\n",
       "      <td>6.12%</td>\n",
       "      <td>5.80%</td>\n",
       "      <td>6.82%</td>\n",
       "      <td>1.79%</td>\n",
       "    </tr>\n",
       "    <tr>\n",
       "      <th>NOPAT</th>\n",
       "      <td>7,488</td>\n",
       "      <td>8,432</td>\n",
       "      <td>2,902</td>\n",
       "      <td>5,750</td>\n",
       "    </tr>\n",
       "    <tr>\n",
       "      <th>Total Adjusted Capital</th>\n",
       "      <td>82,579</td>\n",
       "      <td>79,380</td>\n",
       "      <td>73,193</td>\n",
       "      <td>70,943</td>\n",
       "    </tr>\n",
       "    <tr>\n",
       "      <th>Cost of Capital</th>\n",
       "      <td>5,054</td>\n",
       "      <td>4,608</td>\n",
       "      <td>4,990</td>\n",
       "      <td>1,269</td>\n",
       "    </tr>\n",
       "    <tr>\n",
       "      <th>NOPAT Return on Adjusted Capital</th>\n",
       "      <td>9.07%</td>\n",
       "      <td>10.62%</td>\n",
       "      <td>3.96%</td>\n",
       "      <td>8.11%</td>\n",
       "    </tr>\n",
       "    <tr>\n",
       "      <th>Economic Value Added ($)</th>\n",
       "      <td>2,434</td>\n",
       "      <td>3,824</td>\n",
       "      <td>-2,088</td>\n",
       "      <td>4,481</td>\n",
       "    </tr>\n",
       "    <tr>\n",
       "      <th>Economic Value Added (%)</th>\n",
       "      <td>2.95%</td>\n",
       "      <td>4.82%</td>\n",
       "      <td>-2.85%</td>\n",
       "      <td>6.32%</td>\n",
       "    </tr>\n",
       "  </tbody>\n",
       "</table>\n",
       "</div>"
      ],
      "text/plain": [
       "Date                             2024-12-31 2023-12-31 2022-12-31 2021-12-31\n",
       "Weighted Average Cost of Capital      6.12%      5.80%      6.82%      1.79%\n",
       "NOPAT                                 7,488      8,432      2,902      5,750\n",
       "Total Adjusted Capital               82,579     79,380     73,193     70,943\n",
       "Cost of Capital                       5,054      4,608      4,990      1,269\n",
       "NOPAT Return on Adjusted Capital      9.07%     10.62%      3.96%      8.11%\n",
       "Economic Value Added ($)              2,434      3,824     -2,088      4,481\n",
       "Economic Value Added (%)              2.95%      4.82%     -2.85%      6.32%"
      ]
     },
     "metadata": {},
     "output_type": "display_data"
    }
   ],
   "source": [
    "eva_df = ld.get_data(stock_ric,['TR.WACC.date','TR.WACC'],{'SDate':0, 'EDate':-3, 'Frq':'FY'})\n",
    "eva_df['Weighted Average Cost of Capital'] = eva_df['Weighted Average Cost of Capital, (%)'] / 100\n",
    "eva_df.drop(['Instrument','Weighted Average Cost of Capital, (%)'], axis=1, inplace=True)\n",
    "eva_df['Date'] = eva_df['Date'].dt.strftime('%Y-%m-%d')\n",
    "eva_df = eva_df.set_index(['Date'])\n",
    "eva_df['NOPAT'] = nopat_df['Net Operating Profit After Tax']\n",
    "eva_df['Total Adjusted Capital'] = tot_adj_cap_df['Total Adjusted Capital']\n",
    "eva_df['Cost of Capital'] = eva_df['Total Adjusted Capital'] * eva_df['Weighted Average Cost of Capital']\n",
    "eva_df['NOPAT Return on Adjusted Capital'] = eva_df['NOPAT'] / eva_df['Total Adjusted Capital']\n",
    "eva_df['Economic Value Added ($)'] = eva_df['NOPAT'] - eva_df['Cost of Capital']\n",
    "eva_df['Economic Value Added (%)'] = (eva_df['NOPAT Return on Adjusted Capital'] - \n",
    "                                     eva_df['Weighted Average Cost of Capital'])\n",
    "format_mapper = {'NOPAT':'{:,.0f}','Total Adjusted Capital':'{:,.0f}','Cost of Capital':'{:,.0f}',\n",
    "                 'Economic Value Added ($)':'{:,.0f}','Weighted Average Cost of Capital':'{:.2%}',\n",
    "                 'NOPAT Return on Adjusted Capital':'{:.2%}','Economic Value Added (%)':'{:.2%}'}\n",
    "display(eva_df.T.apply(lambda s: s.map(format_mapper.get(s.name).format), axis=1))"
   ]
  },
  {
   "cell_type": "code",
   "execution_count": 7,
   "metadata": {},
   "outputs": [
    {
     "data": {
      "image/png": "[encoded data removed]",
      "text/plain": [
       "<Figure size 1500x700 with 2 Axes>"
      ]
     },
     "metadata": {},
     "output_type": "display_data"
    }
   ],
   "source": [
    "plot_df = pd.DataFrame({'EVA (' + curr + ' mln)': eva_df['Economic Value Added ($)'].tolist(),\n",
    "                       'EVA (%)': (eva_df['Economic Value Added (%)'] * 100).tolist()},\n",
    "                       index = eva_df.index.str.slice(0,4))\n",
    "ax = plot_df.plot.bar(secondary_y='EVA (%)', figsize=(15,7), \n",
    "                      title=company_info_df.loc[stock_ric,'Company Common Name'])\n",
    "ax.yaxis.set_major_formatter(matplotlib.ticker.StrMethodFormatter('{x:,.0f}'))"
   ]
  },
  {
   "cell_type": "code",
   "execution_count": null,
   "metadata": {},
   "outputs": [],
   "source": []
  }
 ],
 "metadata": {
  "kernelspec": {
   "display_name": "Python 3 (ipykernel)",
   "language": "python",
   "name": "python3"
  },
  "language_info": {
   "codemirror_mode": {
    "name": "ipython",
    "version": 3
   },
   "file_extension": ".py",
   "mimetype": "text/x-python",
   "name": "python",
   "nbconvert_exporter": "python",
   "pygments_lexer": "ipython3",
   "version": "3.12.8"
  }
 },
 "nbformat": 4,
 "nbformat_minor": 4
}
